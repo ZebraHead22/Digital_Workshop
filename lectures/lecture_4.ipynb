{
 "cells": [
  {
   "cell_type": "markdown",
   "metadata": {},
   "source": [
    "Лекция 1: Динамическое добавление атрибутов и методов в Python\n",
    "Введение: Магия динамического программирования\n",
    "\n",
    "Когда мы работаем с объектами в Python, часто возникает желание изменить их поведение или структуру в процессе выполнения программы. Это особенно полезно в ситуациях, когда мы не можем заранее предсказать все атрибуты или методы, которые могут понадобиться нашему объекту. Что если бы мы могли добавлять атрибуты и методы на лету, прямо в процессе работы программы?\n",
    "\n",
    "Сегодня мы будем говорить о том, как можно динамически изменять объекты в Python с помощью таких мощных инструментов, как setattr, getattr и манипуляций с атрибутами через __dict__.\n",
    "\n",
    "Как добавить атрибуты с помощью setattr\n",
    "\n",
    "В Python существует встроенная функция setattr, которая позволяет добавить или изменить атрибут объекта во время работы программы. Посмотрим, как это работает:"
   ]
  },
  {
   "cell_type": "code",
   "execution_count": null,
   "metadata": {
    "vscode": {
     "languageId": "plaintext"
    }
   },
   "outputs": [],
   "source": [
    "class Car:\n",
    "    def __init__(self, make, model):\n",
    "        self.make = make\n",
    "        self.model = model\n",
    "\n",
    "# Создадим объект автомобиля\n",
    "my_car = Car(\"Toyota\", \"Camry\")\n",
    "\n",
    "# Динамически добавим атрибут 'year'\n",
    "setattr(my_car, \"year\", 2020)\n",
    "\n",
    "print(my_car.year)  # Вывод: 2020\n"
   ]
  },
  {
   "cell_type": "markdown",
   "metadata": {},
   "source": [
    "Здесь мы создали объект my_car класса Car с атрибутами make и model. Затем с помощью setattr добавили новый атрибут year. Это простой пример того, как можно динамически расширять функциональность объектов.\n",
    "\n",
    "Получение атрибутов с помощью getattr\n",
    "\n",
    "Если мы добавляем атрибут, может возникнуть необходимость его получить. Для этого существует функция getattr, которая позволяет извлечь значение атрибута объекта. Причем, если атрибута нет, она может вернуть значение по умолчанию или вызвать ошибку."
   ]
  },
  {
   "cell_type": "code",
   "execution_count": null,
   "metadata": {
    "vscode": {
     "languageId": "plaintext"
    }
   },
   "outputs": [],
   "source": [
    "# Получаем значение атрибута 'year'\n",
    "year = getattr(my_car, \"year\", \"Unknown year\")\n",
    "print(year)  # Вывод: 2020\n",
    "\n",
    "# Пытаемся получить несуществующий атрибут 'color'\n",
    "color = getattr(my_car, \"color\", \"Unknown color\")\n",
    "print(color)  # Вывод: Unknown color\n"
   ]
  },
  {
   "cell_type": "markdown",
   "metadata": {},
   "source": [
    "Изменение атрибутов через __dict__\n",
    "\n",
    "Каждый объект в Python имеет атрибут __dict__, который представляет собой словарь, содержащий все атрибуты объекта. Через этот словарь можно не только получать, но и изменять или добавлять новые атрибуты."
   ]
  },
  {
   "cell_type": "code",
   "execution_count": null,
   "metadata": {
    "vscode": {
     "languageId": "plaintext"
    }
   },
   "outputs": [],
   "source": [
    "# Добавим новый атрибут через __dict__\n",
    "my_car.__dict__[\"color\"] = \"Red\"\n",
    "print(my_car.color)  # Вывод: Red\n"
   ]
  },
  {
   "cell_type": "markdown",
   "metadata": {},
   "source": [
    "Теперь наш объект my_car имеет новый атрибут color, добавленный через __dict__. Это позволяет нам контролировать атрибуты объекта напрямую, без использования методов вроде setattr.\n",
    "\n",
    "Заключение: Динамическое расширение объектов\n",
    "\n",
    "Динамическое добавление атрибутов и методов открывает нам множество возможностей для работы с объектами в Python. Мы можем создать более гибкие и адаптивные классы, которые могут изменяться в процессе выполнения программы, что делает их мощными инструментами для решения самых разных задач."
   ]
  },
  {
   "cell_type": "markdown",
   "metadata": {},
   "source": [
    "Лекция 2: Паттерны проектирования в Python\n",
    "Введение: Паттерны — ключи к успешному проектированию\n",
    "\n",
    "Представьте, что вы строите дом. Когда вы сталкиваетесь с определенными архитектурными проблемами, вы можете использовать готовые строительные схемы — паттерны. Паттерны проектирования в программировании — это готовые решения общих задач, которые помогают ускорить процесс разработки, улучшить код и сделать его более понятным.\n",
    "\n",
    "Сегодня мы рассмотрим несколько популярных паттернов проектирования, таких как Singleton, Factory, Observer и Decorator, и узнаем, как их можно реализовать в Python.\n",
    "\n",
    "Паттерн Singleton: Одиночка\n",
    "\n",
    "Один из самых популярных паттернов — это Singleton, который гарантирует, что в программе будет существовать только один экземпляр класса. Например, он может быть полезен для управления доступом к базе данных или настройкам конфигурации."
   ]
  },
  {
   "cell_type": "code",
   "execution_count": null,
   "metadata": {
    "vscode": {
     "languageId": "plaintext"
    }
   },
   "outputs": [],
   "source": [
    "class Singleton:\n",
    "    _instance = None\n",
    "\n",
    "    def __new__(cls):\n",
    "        if cls._instance is None:\n",
    "            cls._instance = super().__new__(cls)\n",
    "        return cls._instance\n",
    "\n",
    "# Проверим, что оба экземпляра ссылаются на один объект\n",
    "obj1 = Singleton()\n",
    "obj2 = Singleton()\n",
    "\n",
    "print(obj1 is obj2)  # Вывод: True\n"
   ]
  },
  {
   "cell_type": "markdown",
   "metadata": {},
   "source": [
    "Здесь мы используем метод __new__, чтобы убедиться, что объект будет создан только один раз.\n",
    "\n",
    "Паттерн Factory: Фабрика\n",
    "\n",
    "Паттерн Factory используется, когда нужно создать объект, но не хочется жестко привязываться к его классу. Мы создаем фабричный метод, который решает, какой объект создать."
   ]
  },
  {
   "cell_type": "code",
   "execution_count": null,
   "metadata": {
    "vscode": {
     "languageId": "plaintext"
    }
   },
   "outputs": [],
   "source": [
    "class Car:\n",
    "    def drive(self):\n",
    "        print(\"Driving a car\")\n",
    "\n",
    "class Bike:\n",
    "    def ride(self):\n",
    "        print(\"Riding a bike\")\n",
    "\n",
    "class VehicleFactory:\n",
    "    @staticmethod\n",
    "    def create_vehicle(vehicle_type):\n",
    "        if vehicle_type == \"car\":\n",
    "            return Car()\n",
    "        elif vehicle_type == \"bike\":\n",
    "            return Bike()\n",
    "\n",
    "# Используем фабрику для создания объектов\n",
    "vehicle = VehicleFactory.create_vehicle(\"car\")\n",
    "vehicle.drive()  # Вывод: Driving a car\n"
   ]
  },
  {
   "cell_type": "markdown",
   "metadata": {},
   "source": [
    "Здесь мы использовали VehicleFactory для создания различных объектов, избегая прямого указания их классов.\n",
    "\n",
    "Паттерн Observer: Наблюдатель\n",
    "\n",
    "Паттерн Observer позволяет создать механизм, в котором объект (называемый \"субъектом\") уведомляет другие объекты (называемые \"наблюдателями\") о своих изменениях. Это полезно, например, при реализации подписки на события."
   ]
  },
  {
   "cell_type": "code",
   "execution_count": null,
   "metadata": {
    "vscode": {
     "languageId": "plaintext"
    }
   },
   "outputs": [],
   "source": [
    "class Subject:\n",
    "    def __init__(self):\n",
    "        self._observers = []\n",
    "\n",
    "    def add_observer(self, observer):\n",
    "        self._observers.append(observer)\n",
    "\n",
    "    def notify_observers(self, message):\n",
    "        for observer in self._observers:\n",
    "            observer.update(message)\n",
    "\n",
    "class Observer:\n",
    "    def update(self, message):\n",
    "        print(f\"Received message: {message}\")\n",
    "\n",
    "# Пример использования\n",
    "subject = Subject()\n",
    "observer = Observer()\n",
    "subject.add_observer(observer)\n",
    "\n",
    "subject.notify_observers(\"New event happened!\")  # Вывод: Received message: New event happened!\n"
   ]
  },
  {
   "cell_type": "markdown",
   "metadata": {},
   "source": [
    "Здесь объект Subject уведомляет все добавленные наблюдатели о событии.\n",
    "\n",
    "Паттерн Decorator: Декоратор\n",
    "\n",
    "Паттерн Decorator позволяет динамически добавлять поведение объектам без изменения их кода. Это полезно, когда нужно расширить функциональность, но не хочется создавать новые классы или изменять старые."
   ]
  },
  {
   "cell_type": "code",
   "execution_count": null,
   "metadata": {
    "vscode": {
     "languageId": "plaintext"
    }
   },
   "outputs": [],
   "source": [
    "class Car:\n",
    "    def drive(self):\n",
    "        print(\"Driving a car\")\n",
    "\n",
    "class CarWithTurbo:\n",
    "    def __init__(self, car):\n",
    "        self._car = car\n",
    "\n",
    "    def drive(self):\n",
    "        self._car.drive()\n",
    "        print(\"Turbo mode activated!\")\n",
    "\n",
    "# Использование декоратора\n",
    "car = Car()\n",
    "turbo_car = CarWithTurbo(car)\n",
    "turbo_car.drive()\n"
   ]
  },
  {
   "cell_type": "markdown",
   "metadata": {},
   "source": [
    "Здесь мы добавили новый функционал к машине с помощью \"обертки\" — объекта, который расширяет поведение оригинального объекта.\n",
    "\n",
    "Заключение: Паттерны как универсальные инструменты\n",
    "\n",
    "Использование паттернов проектирования позволяет создавать чистый, гибкий и поддерживаемый код. С их помощью можно решить многие типичные задачи, повышая производительность и упрощая поддержку программ."
   ]
  }
 ],
 "metadata": {
  "language_info": {
   "name": "python"
  }
 },
 "nbformat": 4,
 "nbformat_minor": 2
}
