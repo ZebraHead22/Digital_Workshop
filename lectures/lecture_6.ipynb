{
 "cells": [
  {
   "cell_type": "markdown",
   "metadata": {},
   "source": [
    "# Лекция Python 5\n",
    "\n",
    "## Дескрипторы\n",
    "### Основы"
   ]
  },
  {
   "cell_type": "code",
   "execution_count": 3,
   "metadata": {},
   "outputs": [
    {
     "name": "stdout",
     "output_type": "stream",
     "text": [
      "<__main__.Decriptor object at 0x106ec2ae0>\n",
      "<__main__.Subject object at 0x106ec2930>\n",
      "<class '__main__.Subject'>\n"
     ]
    }
   ],
   "source": [
    "class Decriptor:\n",
    "    def __get__(self, instance, owner):\n",
    "        print(self, instance, owner, sep='\\n')\n",
    "\n",
    "class Subject:\n",
    "    attr = Decriptor()\n",
    "\n",
    "x = Subject()\n",
    "x.attr"
   ]
  },
  {
   "cell_type": "code",
   "execution_count": 7,
   "metadata": {},
   "outputs": [
    {
     "name": "stdout",
     "output_type": "stream",
     "text": [
      "get\n"
     ]
    },
    {
     "ename": "AttributeError",
     "evalue": "cannot set",
     "output_type": "error",
     "traceback": [
      "\u001b[0;31m---------------------------------------------------------------------------\u001b[0m",
      "\u001b[0;31mAttributeError\u001b[0m                            Traceback (most recent call last)",
      "Cell \u001b[0;32mIn[7], line 10\u001b[0m\n\u001b[1;32m      8\u001b[0m X \u001b[38;5;241m=\u001b[39m C()\n\u001b[1;32m      9\u001b[0m X\u001b[38;5;241m.\u001b[39ma\n\u001b[0;32m---> 10\u001b[0m \u001b[43mX\u001b[49m\u001b[38;5;241;43m.\u001b[39;49m\u001b[43ma\u001b[49m \u001b[38;5;241m=\u001b[39m \u001b[38;5;241m99\u001b[39m\n\u001b[1;32m     11\u001b[0m \u001b[38;5;28mlist\u001b[39m(X\u001b[38;5;241m.\u001b[39m\u001b[38;5;18m__dict__\u001b[39m\u001b[38;5;241m.\u001b[39mkeys())\n\u001b[1;32m     12\u001b[0m X\u001b[38;5;241m.\u001b[39m\u001b[38;5;18m__dict__\u001b[39m\n",
      "Cell \u001b[0;32mIn[7], line 3\u001b[0m, in \u001b[0;36mD.__set__\u001b[0;34m(*args)\u001b[0m\n\u001b[1;32m      1\u001b[0m \u001b[38;5;28;01mclass\u001b[39;00m \u001b[38;5;21;01mD\u001b[39;00m:  \u001b[38;5;66;03m# Дескриптор не данных\u001b[39;00m\n\u001b[1;32m      2\u001b[0m     \u001b[38;5;28;01mdef\u001b[39;00m \u001b[38;5;21m__get__\u001b[39m(\u001b[38;5;241m*\u001b[39margs): \u001b[38;5;28mprint\u001b[39m(\u001b[38;5;124m'\u001b[39m\u001b[38;5;124mget\u001b[39m\u001b[38;5;124m'\u001b[39m)\n\u001b[0;32m----> 3\u001b[0m     \u001b[38;5;28;01mdef\u001b[39;00m \u001b[38;5;21m__set__\u001b[39m(\u001b[38;5;241m*\u001b[39margs):\u001b[38;5;28;01mraise\u001b[39;00m \u001b[38;5;167;01mAttributeError\u001b[39;00m(\u001b[38;5;124m'\u001b[39m\u001b[38;5;124mcannot set\u001b[39m\u001b[38;5;124m'\u001b[39m)\n",
      "\u001b[0;31mAttributeError\u001b[0m: cannot set"
     ]
    }
   ],
   "source": [
    "class D:  # Дескриптор не данных\n",
    "    def __get__(*args): print('get')\n",
    "    def __set__(*args):raise AttributeError('cannot set')\n",
    "class C:\n",
    "    a = D()  # Атрибут a - это экземпляр дескриптора\n",
    "\n",
    "\n",
    "X = C()\n",
    "X.a\n",
    "X.a = 99\n",
    "list(X.__dict__.keys())\n",
    "X.__dict__\n",
    "print(C.a)"
   ]
  },
  {
   "cell_type": "markdown",
   "metadata": {},
   "source": [
    "### Пример 1"
   ]
  },
  {
   "cell_type": "code",
   "execution_count": 8,
   "metadata": {},
   "outputs": [
    {
     "name": "stdout",
     "output_type": "stream",
     "text": [
      "fetch...\n",
      "Bob Smith\n",
      "change. . . \n",
      "fetch...\n",
      "Robert Smith\n",
      "remove...\n",
      "--------------------\n",
      "fetch...\n",
      "Sue Jones\n",
      "name descriptor docs\n"
     ]
    }
   ],
   "source": [
    "class Name:\n",
    "    \"name descriptor docs\" \n",
    "    def __get__(self, instance, owner):\n",
    "        print('fetch...') \n",
    "        return instance._name\n",
    "    def __set__ (self, instance, value):\n",
    "        print('change. . . ') \n",
    "        instance._name = value \n",
    "    def __delete__(self, instance):\n",
    "        print('remove...') \n",
    "        del instance._name\n",
    "\n",
    "class Person: \n",
    "    def __init__ (self, name):\n",
    "        self._name = name \n",
    "    name = Name()\n",
    "\n",
    "bob = Person('Bob Smith') \n",
    "print(bob.name) \n",
    "bob.name = 'Robert Smith' \n",
    "print(bob.name) \n",
    "del bob.name \n",
    "print ('-'*20) \n",
    "sue = Person('Sue Jones') \n",
    "print(sue.name) \n",
    "print(Name.__doc__)"
   ]
  },
  {
   "cell_type": "markdown",
   "metadata": {},
   "source": [
    "Также подобно примеру co свойством экземпляр класса дескриптора является ат­\n",
    "рибутом класса и потому наследуется всеми экземплярами клиентского класса и его \n",
    "подклассов. Скажем, если мы изменим класс Person в примере следующим образом, \n",
    "то вывод сценария останется тем же самым:\n"
   ]
  },
  {
   "cell_type": "code",
   "execution_count": 9,
   "metadata": {},
   "outputs": [],
   "source": [
    "class Super:\n",
    "    def __init__(self, name) :\n",
    "        self._name = name\n",
    "    name = Name ()\n",
    "\n",
    "class Person (Super) :  # Дескрипторы наследуются\n",
    "#  (т.к. являются атрибутами класса)\n",
    "    pass\n"
   ]
  },
  {
   "cell_type": "markdown",
   "metadata": {},
   "source": [
    "Кроме того, когда класс дескриптора бесполезен за рамками клиентского класса, \n",
    "то вполне разумно синтаксически внедрить определение дескриптора в его клиент. \n",
    "Вот как наш пример выглядит в случае применения вложенного класса'.\n"
   ]
  },
  {
   "cell_type": "code",
   "execution_count": 12,
   "metadata": {},
   "outputs": [],
   "source": [
    "class Person:\n",
    "    def __init__ (self, name):\n",
    "        self._name = name\n",
    "    class Name:  # Использование вложенного класса\n",
    "        \"name descriptor docs\"\n",
    "        def __get__(self, instance, owner):\n",
    "            print('fetch. . . ')\n",
    "            return instance._name\n",
    "        def __set__ (self, instance, value):\n",
    "            print('change...')\n",
    "            instance._name = value\n",
    "        def __delete__(self, instance):\n",
    "            print('remove...')\n",
    "            del instance._name\n",
    "    name = Name()"
   ]
  },
  {
   "cell_type": "markdown",
   "metadata": {},
   "source": [
    "### Вычисляемые атрибуты"
   ]
  },
  {
   "cell_type": "code",
   "execution_count": 13,
   "metadata": {},
   "outputs": [
    {
     "name": "stdout",
     "output_type": "stream",
     "text": [
      "9\n",
      "16\n",
      "1024\n"
     ]
    }
   ],
   "source": [
    "class DescSquare:\n",
    "    def __init__ (self, start) :  # Каждый дескриптор имеет\n",
    "    #  собственное состояние\n",
    "        self.value = start\n",
    "    def __get__(self, instance, owner) : # При извлечении атрибута\n",
    "        return self.value ** 2\n",
    "    def __set__(self, instance, value) : # При присваивании атрибута\n",
    "        self .value = value  # Операция удаления и строка\n",
    "    #  документации отсутствуют\n",
    "class Clientl:\n",
    "    X = DescSquare(3)  # Присвоить экземпляр дескриптора атрибуту класса\n",
    "class Client2:\n",
    "    X = DescSquare (32)  # Еще один экземпляр в другом клиентском классе\n",
    "#  Можно было бы также предусмотреть\n",
    "#  два экземпляра в том же самом классе\n",
    "cl = Clientl()\n",
    "с2 = Client2()\n",
    "print(cl.X)  # 3 ** 2\n",
    "cl.X = 4\n",
    "print(cl.X)  # 4 ** 2\n",
    "print(с2.X)  # 32 ** 2 (1024)\n"
   ]
  },
  {
   "cell_type": "markdown",
   "metadata": {},
   "source": [
    "## Использование информации состояния в дескрипторах"
   ]
  },
  {
   "cell_type": "markdown",
   "metadata": {},
   "source": [
    "- Состояние дескриптора применяется для управления либо данными, используе­\n",
    "мыми при внутренней работе дескриптора, либо данными, которые охватывают \n",
    "все экземпляры. Оно может варьироваться в зависимости от места появления \n",
    "атрибута (часто в зависимости от клиентского класса).\n",
    "- Состояние экземпляра хранит информацию, связанную и возможно созданную \n",
    "клиентским классом. Оно может варьироваться в зависимости от экземпляра \n",
    "клиентского класса (т.е. в зависимости от объекта приложения)."
   ]
  },
  {
   "cell_type": "code",
   "execution_count": 14,
   "metadata": {},
   "outputs": [
    {
     "name": "stdout",
     "output_type": "stream",
     "text": [
      "DescState get\n",
      "20 3 4\n",
      "DescState set\n",
      "DescState get\n",
      "50 6 7\n",
      "DescState get\n",
      "50 6 4\n"
     ]
    }
   ],
   "source": [
    "class DescState: # Использование состояния дескриптора, (object) в Python 2.Х\n",
    "    def __init__ (self, value):\n",
    "        self.value = value\n",
    "    def __get__ (self, instance, owner):\n",
    "        print('DescState get') \n",
    "        return self.value * 10\n",
    "    def __set__ (self, instance, value):\n",
    "        print('DescState set') \n",
    "        self.value = value\n",
    "# Клиентский класс \n",
    "class CalcAttrs:\n",
    "    X = DescState(2)\n",
    "    Y = 3\n",
    "    def __init__(self) :\n",
    "        self.Z = 4\n",
    "\n",
    "obj = CalcAttrs()\n",
    "print(obj.X, obj.Y, obj.Z)  # X вычисляется, остальные нет\n",
    "obj.X = 5  # Присваивание X перехватывается\n",
    "CalcAttrs.Y =6  # Y повторно присваивается в классе\n",
    "obj.Z = 7  # Z присваивается в экземпляре\n",
    "print(obj.X, obj.Y, obj.Z)\n",
    "obj2 = CalcAttrs()  # Но X использует разделяемые данные подобно Y!\n",
    "print(obj2.X, obj2.Y, obj2.Z)"
   ]
  },
  {
   "cell_type": "markdown",
   "metadata": {},
   "source": [
    "Кроме того, для дескриптора вполне реально хранить или применять атрибут, при­\n",
    "соединенный к экземпляру клиентского класса, а не к самому себе. Важно отметить, \n",
    "что в отличие от данных, хранящихся в самом дескрипторе, это делает возможными \n",
    "данные, которые способны варьироваться в зависимости от экземпляра клиентского \n",
    "класса. Дескриптор в показанном далее примере предполагает, что экземпляр имеет \n",
    "атрибут _Х, присоединенный клиентским классом, и использует его для вычисления \n",
    "значения атрибута, который он представляет:\n"
   ]
  },
  {
   "cell_type": "code",
   "execution_count": 16,
   "metadata": {},
   "outputs": [
    {
     "name": "stdout",
     "output_type": "stream",
     "text": [
      "InstState get\n",
      "20 3 4\n",
      "InstState set\n",
      "InstState get\n",
      "50 6 7\n",
      "InstState get\n",
      "20 6 4\n"
     ]
    }
   ],
   "source": [
    "class InstState: # Использование состояния экземпляра, (object) в Python 2.Х \n",
    "    def __get__ (self, instance, owner) :\n",
    "        print ('InstState get') # Предполагается, что установлен клиентским классом \n",
    "        return instance._X * 10 \n",
    "    def __set__ (self, instance, value):\n",
    "        print('InstState set') \n",
    "        instance._X = value * 6.28\n",
    "# Клиентский класс \n",
    "class CalcAttrs:\n",
    "    X = InstState()  #  Атрибут класса дескриптора\n",
    "    Y = 3 #  Атрибут класса\n",
    "    def __init__ (self) :\n",
    "        self._X = 2  #  Атрибут экземпляра\n",
    "        self.Z = 4  #  Атрибут экземпляра\n",
    "\n",
    "\n",
    "obj = CalcAttrs()\n",
    "print(obj.X, obj.Y, obj.Z) \n",
    "obj.X = 5\n",
    "CalcAttrs.Y = 6\n",
    "obj. Z = 7\n",
    "print(obj.X, obj.Y, obj.Z)\n",
    "obj2 = CalcAttrs ()\n",
    "print(obj2.X, obj2.Y, obj2.Z)"
   ]
  },
  {
   "cell_type": "markdown",
   "metadata": {},
   "source": [
    "С состоянием дескриптора и состоянием экземпляра связаны свои роли. На самом \n",
    "деле это и есть то общее преимущество, которым дескрипторы обладают по сравне­\n",
    "нию со свойствами — поскольку они имеют собственное состояние, то могут легко \n",
    "сохранять данные внутренне, не добавляя их к пространству имен в объекте экземп­\n",
    "ляра клиента. В качестве сводки в следующем дескрипторе используются оба источни­\n",
    "ка состояния — в self .data хранится информация для каждого атрибута, тогда как \n",
    "instance .data может изменяться от экземпляра к экземпляру клиента:\n"
   ]
  },
  {
   "cell_type": "code",
   "execution_count": 28,
   "metadata": {},
   "outputs": [
    {
     "name": "stdout",
     "output_type": "stream",
     "text": [
      "{'data': 'eggs'}\n"
     ]
    }
   ],
   "source": [
    "class DescBoth:\n",
    "    def __init__(self, data):\n",
    "        self.data = data\n",
    "    def __get__(self, instance, owner):\n",
    "        return '%s, %s' % (self.data, instance.data)\n",
    "    def __set__(self, instance, value):\n",
    "        instance.data = value\n",
    "\n",
    "class Client:\n",
    "    def __init__(self, data):\n",
    "        self.data = data \n",
    "    managed = DescBoth('spam')\n",
    "\n",
    "I = Client('eggs')\n",
    "print(I.__dict__)"
   ]
  },
  {
   "cell_type": "markdown",
   "metadata": {},
   "source": [
    "### Связь между свойствами и дескрипторами\n",
    "\n",
    "Как упоминалось ранее, свойства и дескрипторы тесно связаны — встроенная фун­кция property является всего лишь удобным способом создания дескриптора. Теперь, \n",
    "когда вам известно, как работают оба средства, вы должны быть в состоянии видеть воз­\n",
    "можность эмуляции встроенной функции property с помощью класса дескриптора:\n"
   ]
  },
  {
   "cell_type": "code",
   "execution_count": 29,
   "metadata": {},
   "outputs": [
    {
     "name": "stdout",
     "output_type": "stream",
     "text": [
      "getName...\n",
      "setName...\n"
     ]
    },
    {
     "ename": "AttributeError",
     "evalue": "can't delete attribute",
     "output_type": "error",
     "traceback": [
      "\u001b[0;31m---------------------------------------------------------------------------\u001b[0m",
      "\u001b[0;31mAttributeError\u001b[0m                            Traceback (most recent call last)",
      "Cell \u001b[0;32mIn[29], line 30\u001b[0m\n\u001b[1;32m     28\u001b[0m x\u001b[38;5;241m.\u001b[39mname\n\u001b[1;32m     29\u001b[0m x\u001b[38;5;241m.\u001b[39m name \u001b[38;5;241m=\u001b[39m \u001b[38;5;124m'\u001b[39m\u001b[38;5;124mBob\u001b[39m\u001b[38;5;124m'\u001b[39m\n\u001b[0;32m---> 30\u001b[0m \u001b[38;5;28;01mdel\u001b[39;00m \u001b[43mx\u001b[49m\u001b[38;5;241;43m.\u001b[39;49m\u001b[43mname\u001b[49m\n",
      "Cell \u001b[0;32mIn[29], line 20\u001b[0m, in \u001b[0;36mProperty.__delete__\u001b[0;34m(self, instance)\u001b[0m\n\u001b[1;32m     18\u001b[0m \u001b[38;5;28;01mdef\u001b[39;00m \u001b[38;5;21m__delete__\u001b[39m(\u001b[38;5;28mself\u001b[39m, instance):\n\u001b[1;32m     19\u001b[0m     \u001b[38;5;28;01mif\u001b[39;00m \u001b[38;5;28mself\u001b[39m\u001b[38;5;241m.\u001b[39mfdel \u001b[38;5;129;01mis\u001b[39;00m \u001b[38;5;28;01mNone\u001b[39;00m:\n\u001b[0;32m---> 20\u001b[0m         \u001b[38;5;28;01mraise\u001b[39;00m \u001b[38;5;167;01mAttributeError\u001b[39;00m (\u001b[38;5;124m\"\u001b[39m\u001b[38;5;124mcan\u001b[39m\u001b[38;5;124m'\u001b[39m\u001b[38;5;124mt delete attribute\u001b[39m\u001b[38;5;124m\"\u001b[39m) \u001b[38;5;66;03m# нельзя удалить атрибут \u001b[39;00m\n\u001b[1;32m     21\u001b[0m     \u001b[38;5;28mself\u001b[39m\u001b[38;5;241m.\u001b[39mfdel(instance)\n",
      "\u001b[0;31mAttributeError\u001b[0m: can't delete attribute"
     ]
    }
   ],
   "source": [
    "class Property:\n",
    "    def __init__(self, fget=None, fset=None, fdel=None, doc=None):\n",
    "        self.fget = fget\n",
    "        self.fset = fset\n",
    "        self.fdel = fdel  # Сохранить несвязанный метод\n",
    "        self.__doc__ = doc  # или другие вызываемые объекты\n",
    "    def __get__(self, instance, instancetype=None):\n",
    "        if instance is None:\n",
    "            return self\n",
    "        if self.fget is None:\n",
    "            raise AttributeError (\"can't get attribute\") # нельзя извлечь атрибут \n",
    "        return self.fget(instance)  # Передать instance экземпляру self\n",
    "        # в методах доступа к свойствам \n",
    "    def __set__ (self, instance, value):\n",
    "        if self.fset is None:\n",
    "            raise AttributeError (\"can't set attribute\") # нельзя установить атрибут \n",
    "        self.fset(instance, value)\n",
    "    def __delete__(self, instance):\n",
    "        if self.fdel is None:\n",
    "            raise AttributeError (\"can't delete attribute\") # нельзя удалить атрибут \n",
    "        self.fdel(instance)\n",
    "\n",
    "class Person:\n",
    "    def getName(self): print('getName...')\n",
    "    def setName(self, value): print('setName...')\n",
    "    name = Property(getName, setName) # Использовать подобно property()\n",
    "x = Person()\n",
    "x.name\n",
    "x.name = 'Bob'\n",
    "del x.name"
   ]
  },
  {
   "cell_type": "markdown",
   "metadata": {},
   "source": [
    "### \\_\\_getattr__ и \\_\\_getattribute__\n",
    "\n",
    "\n",
    "- Метод__ getattr__ запускается для неопределенных атрибутов — поскольку он\n",
    "выполняется только для атрибутов, которые не хранятся в экземпляре или не \n",
    "наследуются от одного из его классов, используется он прямолинейно.\n",
    "- Метод__ getattribute__ запускается для каждого атрибута — поскольку он\n",
    "включает все, вы должны соблюдать осторожность при его применении, чтобы \n",
    "избежать рекурсивных циклов из-за передачи суперклассу операций доступа к \n",
    "атрибутам"
   ]
  },
  {
   "cell_type": "code",
   "execution_count": null,
   "metadata": {},
   "outputs": [],
   "source": [
    "def __getattr__(self, name):\n",
    "    pass # При извлечении неопределенных атрибутов [obj.паше]\n",
    "def  __getattribute__(self, name):\n",
    "    pass # При извлечении всех атрибутов [obj .name] \n",
    "def __setattr__(self, name, value):\n",
    "    pass # При присваивании всех атрибутов [obj .name=value] \n",
    "def __delattr__(self, name):  \n",
    "    pass # При удалении всех атрибутов [del obj.name]"
   ]
  },
  {
   "cell_type": "code",
   "execution_count": 30,
   "metadata": {},
   "outputs": [
    {
     "name": "stdout",
     "output_type": "stream",
     "text": [
      "Get: job\n",
      "Get: pay\n",
      "Set: pay 99\n"
     ]
    }
   ],
   "source": [
    "class Catcher:\n",
    "    def  __getattr__ (self, name): \n",
    "        print('Get: %s' % name)\n",
    "    def  __setattr__ (self, name, value):\n",
    "        print('Set: %s %s' % (name, value))\n",
    "\n",
    "X = Catcher()\n",
    "X.job  # Выводится Get: job\n",
    "X.pay  # Выводится Get: pay\n",
    "X.pay =99  "
   ]
  },
  {
   "cell_type": "markdown",
   "metadata": {},
   "source": [
    "Применение__ getattribute__ в этом конкретном случае работает точно так же,\n",
    "но требует (только) в Python 2.Х наследования от object и обладает едва заметным \n",
    "потенциалом зацикливания:"
   ]
  },
  {
   "cell_type": "code",
   "execution_count": 31,
   "metadata": {},
   "outputs": [],
   "source": [
    "class Catcher(object):  # В Python 2.Х требуется (object)\n",
    "    def __getattribute__(self, name):  # Работает здесь так же, как getattr\n",
    "        print('Get: %s' % name)  # Но в целом подвержен зацикливанию\n",
    "# . . . остальной код остался прежним. . ."
   ]
  },
  {
   "cell_type": "code",
   "execution_count": 32,
   "metadata": {},
   "outputs": [
    {
     "name": "stdout",
     "output_type": "stream",
     "text": [
      "Trace: append\n",
      "[1, 2, 3, 4]\n"
     ]
    }
   ],
   "source": [
    "class Wrapper:\n",
    "    def __init__(self, object):\n",
    "        self.wrapped = object  # Сохранить объект\n",
    "    def __getattr__(self, attrname):\n",
    "        print('Trace: ' + attrname)  # Отслеживать извлечение\n",
    "        return getattr(self.wrapped, attrname) # Делегировать извлечение\n",
    "X = Wrapper([1, 2, 3])\n",
    "X.append(4)  # Выводится Trace: append\n",
    "print (X.wrapped) "
   ]
  },
  {
   "cell_type": "markdown",
   "metadata": {},
   "source": [
    "### Избегание циклов в методах перехвата атрибутов\n"
   ]
  },
  {
   "cell_type": "code",
   "execution_count": 41,
   "metadata": {},
   "outputs": [],
   "source": [
    "def __getattribute__(self, name):\n",
    "    x = self.other    # ЗАЦИКЛИВАНИЕ!!!"
   ]
  },
  {
   "cell_type": "code",
   "execution_count": null,
   "metadata": {},
   "outputs": [],
   "source": [
    "def __getattribute__(self, name): # Передача расположенному\n",
    "    x = object.__getattribute__(self, 'other')             # выше суперклассу\n",
    "\n",
    "def __setattr__(self, name, value):\n",
    "    self.other = value  # Рекурсия (и возможное ЗАЦИКЛИВАНИЕ!)\n",
    "\n",
    "def __setattr__ (self, name, value):\n",
    "    self.__dict__['other'] = value  # Использование словаря атрибутов\n",
    "\n",
    "def __setattr__ (self, name, value):\n",
    "    object.__setattr__(self, 'other', value)  # Передача расположенному выше суперклассу\n",
    "\n",
    "def __getattribute__(self, name) :\n",
    "    x = self.__dict__['other']    # Зацикливание!\n"
   ]
  },
  {
   "cell_type": "markdown",
   "metadata": {},
   "source": [
    "## Пример 2\n",
    "\n"
   ]
  },
  {
   "cell_type": "code",
   "execution_count": 35,
   "metadata": {},
   "outputs": [
    {
     "name": "stdout",
     "output_type": "stream",
     "text": [
      "set: _name\n",
      "get: name\n",
      "Bob Smith\n",
      "set: name\n",
      "get: name\n",
      "Robert Smith\n",
      "del: name\n",
      "--------------------\n",
      "set: _name\n",
      "get: name\n",
      "Sue Jones\n",
      "set: age\n"
     ]
    }
   ],
   "source": [
    "class Person:  # Код переносимый: Python 2.Х или З.Х\n",
    "    def  __init__ (self, name) :  # При [Person]\n",
    "        self._name = name  # Запускается__setattr__ !\n",
    "    def __getattr__(self, attr) :  # При [obj.неопределенный_атрибут]\n",
    "        print('get: ' + attr)\n",
    "        if attr == 'name' :  # Перехват имени name: не хранится в экземпляре\n",
    "            return self._name  # Зацикливания нет: реальный атрибут\n",
    "        else:  # Остальные являются ошибками\n",
    "            raise AttributeError(attr) \n",
    "    def __setattr__(self, attr, value):\n",
    "        print('set: ' + attr) \n",
    "        if attr == 'name' :\n",
    "            attr = '_name' \n",
    "        self.__dict__[attr] = value\n",
    "    def __delattr__(self, attr):\n",
    "        print('del: ' + attr) \n",
    "        if attr == 'name' : \n",
    "            attr = '_name' \n",
    "        del self.__dict__[attr]\n",
    "\n",
    "bob = Person('Bob Smith') \n",
    "print(bob.name) \n",
    "bob.name = 'Robert Smith' \n",
    "print(bob.name) \n",
    "del bob.name \n",
    "print('-'*20) \n",
    "sue = Person('Sue Jones') \n",
    "print(sue.name)\n",
    "sue.age = 20\n",
    "# print(Person.name.__doc__ )\n"
   ]
  },
  {
   "cell_type": "markdown",
   "metadata": {},
   "source": [
    "### Использование \\_\\_getattribute__\n"
   ]
  },
  {
   "cell_type": "code",
   "execution_count": 37,
   "metadata": {},
   "outputs": [],
   "source": [
    "def __getattribute__ (self, attr) :  # При [obj .любой_атрибут]\n",
    "    print('get: ' + attr) \n",
    "    if attr == 'name' :  # Перехват всех имен\n",
    "        attr = '_name'  # Отображение на внутреннее имя\n",
    "    return object.__getattribute__(self, attr) "
   ]
  },
  {
   "cell_type": "code",
   "execution_count": 39,
   "metadata": {},
   "outputs": [
    {
     "name": "stdout",
     "output_type": "stream",
     "text": [
      "set: _name\n",
      "get: __dict__\n",
      "get: name\n",
      "Bob Smith\n",
      "set: name\n",
      "get: __dict__\n",
      "get: name\n",
      "Robert Smith\n",
      "del: name\n",
      "get: __dict__\n",
      "--------------------\n",
      "set: _name\n",
      "get: __dict__\n",
      "get: name\n",
      "Sue Jones\n"
     ]
    }
   ],
   "source": [
    "class Person:  # Код переносимый: Python 2.Х или З.Х\n",
    "    def  __init__ (self, name) :  # При [Person]\n",
    "        self._name = name  # Запускается__setattr__ !\n",
    "    def __getattribute__ (self, attr) :  # При [obj .любой_атрибут]\n",
    "        print('get: ' + attr) \n",
    "        if attr == 'name' :  # Перехват всех имен\n",
    "            attr = '_name'  # Отображение на внутреннее имя\n",
    "        return object.__getattribute__(self, attr) \n",
    "    def __setattr__(self, attr, value):\n",
    "        print('set: ' + attr) \n",
    "        if attr == 'name' :\n",
    "            attr = '_name' \n",
    "        self.__dict__[attr] = value\n",
    "    def __delattr__(self, attr):\n",
    "        print('del: ' + attr) \n",
    "        if attr == 'name' : \n",
    "            attr = '_name' \n",
    "        del self.__dict__[attr]\n",
    "\n",
    "bob = Person('Bob Smith') \n",
    "print(bob.name) \n",
    "bob.name = 'Robert Smith' \n",
    "print(bob.name) \n",
    "del bob.name \n",
    "print('-'*20) \n",
    "sue = Person('Sue Jones') \n",
    "print(sue.name) "
   ]
  },
  {
   "cell_type": "markdown",
   "metadata": {},
   "source": [
    "### Вычисляемые атрибуты\n"
   ]
  },
  {
   "cell_type": "code",
   "execution_count": 40,
   "metadata": {},
   "outputs": [
    {
     "name": "stdout",
     "output_type": "stream",
     "text": [
      "9\n",
      "16\n",
      "1024\n"
     ]
    }
   ],
   "source": [
    "class AttrSquare:\n",
    "    def __init__(self, start):\n",
    "        self.value = start  # Запускается__setattr__ !\n",
    "    def __getattr__(self, attr):  # При операциях извлечения\n",
    "    # неопределенных атрибутов \n",
    "        if attr == 'X' :\n",
    "            return self.value ** 2  # value не является неопределенным\n",
    "        else:\n",
    "            raise AttributeError(attr)\n",
    "    def __setattr__(self, attr, value): # При операциях присваивания всех атрибутов\n",
    "        if attr == 'X' :\n",
    "            attr = 'value'\n",
    "        self.__dict__[attr] = value\n",
    "A = AttrSquare(3) \n",
    "B = AttrSquare(32)\n",
    "#  2 экземпляра класса с перегрузкой\n",
    "#  Каждый имеет отличающуюся информацию состояния\n",
    "print(A.X) # 3 *★ 2\n",
    "A.X = 4\n",
    "print(A.X) # 4 ** 2\n",
    "print(B.X) # 32 *★ 2 "
   ]
  },
  {
   "cell_type": "markdown",
   "metadata": {},
   "source": [
    "### Сравнение \\_\\_getattr__ и \\_\\_getattribute__\n",
    "\n",
    "Чтобы подытожить отличия между__ getattr__ и___getattribute__ , в следу­\n",
    "ющем примере оба метода используются для реализации трех атрибутов — атрибу­\n",
    "та класса attrl, атрибута экземпляра attr2 и виртуального управляемого атрибута \n",
    "attr3, вычисляемого при извлечении:\n"
   ]
  },
  {
   "cell_type": "code",
   "execution_count": 41,
   "metadata": {},
   "outputs": [
    {
     "name": "stdout",
     "output_type": "stream",
     "text": [
      "1\n",
      "2\n",
      "get: attr3\n",
      "3\n",
      "--------------------\n",
      "get: attrl\n",
      "1\n",
      "get: attr2\n",
      "2\n",
      "get: attr3\n",
      "3\n"
     ]
    }
   ],
   "source": [
    "class GetAttr:\n",
    "    attrl = 1\n",
    "    def __init__ (self) :\n",
    "        self.attr2 = 2\n",
    "    def __getattr__(self, attr):\n",
    "        print('get: ' + attr)\n",
    "        if attr == 'attr3': \n",
    "            return 3\n",
    "        else:\n",
    "            raise AttributeError(attr)\n",
    "\n",
    "X = GetAttr()\n",
    "print(X.attrl)\n",
    "print(X.attr2)\n",
    "print(X.attr3)\n",
    "print('-'*20)\n",
    "\n",
    "class GetAttribute(object):  # Добавить (object) в Python 2.X\n",
    "    attrl = 1\n",
    "    def __init__ (self) :\n",
    "        self.attr2 = 2\n",
    "    def __getattribute__(self, attr) : # При операциях извлечения всех атрибутов\n",
    "        print('get: ' + attr)  # Использование суперкласса во избежание зацикливания\n",
    "        if attr == 'attr3':\n",
    "            return 3\n",
    "        else:\n",
    "            return object.__getattribute__(self, attr)\n",
    "\n",
    "X = GetAttribute()\n",
    "print(X.attrl)\n",
    "print(X.attr2)\n",
    "print(X.attr3)\n"
   ]
  },
  {
   "cell_type": "markdown",
   "metadata": {},
   "source": [
    "Версия c__ getattr__ перехватывает только доступ к атрибуту attr3, т.к. он не\n",
    "определен. С другой стороны, версия с__ getattribute__ перехватывает операции\n",
    "извлечения всех атрибутов и обязана направлять те, которыми она не управляет, ме­\n",
    "тоду извлечения из суперкласса, чтобы избежать появления циклов.\n",
    "\n",
    "Хотя метод__ getattribute___способен перехватывать больше операций извле­\n",
    "чения атрибутов, чем__ getattr__ , на практике они часто являются лишь вариация­\n",
    "ми на тему — если атрибуты не хранятся физически, то оба метода обеспечивают тот \n",
    "же самый эффект."
   ]
  },
  {
   "cell_type": "markdown",
   "metadata": {},
   "source": [
    "### Снова о классах для регистрации и обработки сведений о людях, основанных на делегировании\n"
   ]
  },
  {
   "cell_type": "code",
   "execution_count": 44,
   "metadata": {},
   "outputs": [
    {
     "name": "stdout",
     "output_type": "stream",
     "text": [
      "Jones\n",
      " [Person: Sue Jones, 110000] \n",
      "** lastName\n",
      "** person\n",
      "Jones\n",
      "** giveRaise\n",
      "** person\n",
      "** person\n",
      " [Person: Tom Jones, 60000] \n"
     ]
    }
   ],
   "source": [
    "class Person:\n",
    "    def __init__ (self, name, job=None, pay=0):\n",
    "        self.name = name\n",
    "        self.job = job\n",
    "        self.pay = pay\n",
    "    def lastName(self):\n",
    "        return self.name.split () [-1]\n",
    "    def giveRaise(self, percent):\n",
    "        self.pay = int(self.pay * (1 + percent))\n",
    "    def __repr__ (self):\n",
    "        return ' [Person: %s, %s] ' % (self.name, self.pay)\n",
    "\n",
    "class Manager:\n",
    "    def __init__(self, name, pay):\n",
    "        self.person = Person(name, 'mgr', pay) # Внедрение объекта Person \n",
    "    def giveRaise(self, percent, bonus=.10):\n",
    "        self .person. giveRaise (percent + bonus) # Перехват и делегирование \n",
    "    def __getattr__(self, attr) :\n",
    "        return getattr(self.person, attr)  # Делегирование всех\n",
    "    # остальных атрибутов \n",
    "    def __repr__(self):\n",
    "        return str(self.person) # Снова требуется перегрузка (в Python З.Х)\n",
    "if __name__ == '__main__' :\n",
    "    sue = Person('Sue Jones', job='dev', pay=100000)\n",
    "    print(sue.lastName())\n",
    "    sue.giveRaise(.10)\n",
    "    print(sue)\n",
    "    tom = Manager('Tom Jones', 50000)  # Manager.__init__\n",
    "    print(tom.lastName())  # Manager.__getattr__ -> Person.lastName\n",
    "    tom.giveRaise(.10)  # Manager.giveRaise -> Person.giveRaise\n",
    "    print (tom)  # Manager.__repr__  -> Person.__repr__\n"
   ]
  },
  {
   "cell_type": "markdown",
   "metadata": {},
   "source": [
    "Однако по контрасту с этим взгляните, что происходит, когда мы выводим объект \n",
    "Manager в конце сценария: вызывается метод__ repr__ класса оболочки и делегиру­\n",
    "ет выполнение работы методу__ repr__ внедренного объекта Person. Имея данный\n",
    "факт в виду, посмотрим, что случится, если мы удалим метод Manager.__ repr__ :"
   ]
  },
  {
   "cell_type": "code",
   "execution_count": null,
   "metadata": {},
   "outputs": [],
   "source": [
    "# Удаление метода __str__ в классе Manager\n",
    "class Manager:\n",
    "    def __init__(self, name, pay):\n",
    "        self.person = Person(name, 'mgr', pay) \n",
    "    def giveRaise(self, percent, bonus=.10):\n",
    "        self .person.giveRaise(percent + bonus) \n",
    "    def __getattr__(self, attr):\n",
    "        return getattr(self.person, attr)"
   ]
  },
  {
   "cell_type": "code",
   "execution_count": 43,
   "metadata": {},
   "outputs": [],
   "source": [
    "#  Замена __getattr__ методом ___getattribute__\n",
    "\n",
    "class Manager(object):  # Использовать (object)\n",
    "    def __init__(self, name, pay):\n",
    "        (name, 'mgr', pay) # Внедрение объекта Person \n",
    "    def giveRaise(self, percent, bonus=.10):\n",
    "        self.person.giveRaise(percent + bonus) # Перехват и делегирование \n",
    "    def __getattribute__(self, attr) :\n",
    "        print('**', attr)\n",
    "        if attr in ['person', 'giveRaise']:\n",
    "            return object.__getattribute__(self, attr) # Извлечение моих атрибутов\n",
    "        else:\n",
    "            return getattr (self .person, attr)"
   ]
  },
  {
   "cell_type": "markdown",
   "metadata": {},
   "source": [
    "Вкратце история заключается в том, что основанные на делегировании классы \n",
    "вроде Manager должны переопределять некоторые методы перегрузки операций (по­\n",
    "добные __ герг__ и___str__ ) для их направления внедренным объектам в Python З.Х,\n",
    "но не в Python 2.Х, если только не применяются классы нового стиля. Похоже, нам до­\n",
    "ступны лишь варианты использования__ getattr__ и Python 2.Х либо избыточного\n",
    "переопределения методов перегрузки операций для классов оболочек в Python З.Х.\n",
    "Опять-таки задача не считается невыполнимой; многие классы оболочек могут \n",
    "спрогнозировать требуемый набор методов перегрузки операций, а инструменты и \n",
    "суперклассы способны автоматизировать часть решения задачи — на самом деле мы \n",
    "изучим необходимые кодовые схемы в следующей главе. Кроме того, не все классы \n",
    "используют методы перегрузки операций (в действительности большинство классов \n",
    "приложений обычно не должны их применять). Тем не менее, об этом важно пом­\n",
    "нить при работе с моделями делегирования в Python З.Х; когда методы перегрузки \n",
    "операций являются частью интерфейса объекта, то классы оболочек обязаны приспо­\n",
    "собиться к ним переносимым образом за счет локального переопределения.\n"
   ]
  }
 ],
 "metadata": {
  "kernelspec": {
   "display_name": "Python 3",
   "language": "python",
   "name": "python3"
  },
  "language_info": {
   "codemirror_mode": {
    "name": "ipython",
    "version": 3
   },
   "file_extension": ".py",
   "mimetype": "text/x-python",
   "name": "python",
   "nbconvert_exporter": "python",
   "pygments_lexer": "ipython3",
   "version": "3.12.2"
  }
 },
 "nbformat": 4,
 "nbformat_minor": 2
}
