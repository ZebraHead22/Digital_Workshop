{
 "cells": [
  {
   "cell_type": "markdown",
   "metadata": {},
   "source": [
    "# Лекция Python 1\n",
    "## Один из реалистичных примеров ООП\n",
    "### Объектно-ориентированное программирование и наследование: отношения \"является\""
   ]
  },
  {
   "cell_type": "code",
   "execution_count": 4,
   "metadata": {},
   "outputs": [
    {
     "name": "stdout",
     "output_type": "stream",
     "text": [
      "<Employee: name=bob, salary=50000>\n",
      "bob makes pizza\n",
      "<Employee: name=bob, salary=60000.0>\n",
      "\n",
      "Employee does stuff\n",
      "Chef makes food\n",
      "Server interfaces with customer\n",
      "PizzaRobot makes pizza\n"
     ]
    }
   ],
   "source": [
    "from __future__ import print_function\n",
    "\n",
    "class Employee:\n",
    "    def __init__(self, name, salary=0):\n",
    "        self.name = name\n",
    "        self.salary = salary\n",
    "    \n",
    "    def giveRaise(self, percent):\n",
    "        self.salary = self.salary + (self.salary * percent)\n",
    "\n",
    "    def work(self):\n",
    "        print(self.name, \"does stuff\") # типо что-то делает\n",
    "\n",
    "    def __repr__(self):\n",
    "        return \"<Employee: name=%s, salary=%s>\" % (self.name, self.salary)\n",
    "\n",
    "class Chef(Employee):\n",
    "    def __init__(self, name):\n",
    "        Employee.__init__(self, name, 50000)\n",
    "\n",
    "    def work(self):\n",
    "        print(self.name, \"makes food\") # готовит еду\n",
    "\n",
    "class Server(Employee):\n",
    "    def __init__(self, name):\n",
    "        Employee.__init__(self, name, 40000)\n",
    "    \n",
    "    def work(self):\n",
    "        print(self.name, \"interfaces with customer\") # Взаимодействует с клиентом\n",
    "\n",
    "class PizzaRobot(Chef):\n",
    "    def __init__(self, name):\n",
    "        Chef.__init__(self, name)   \n",
    "\n",
    "    def work(self):\n",
    "        print(self.name, \"makes pizza\") # готовит пиццу\n",
    "\n",
    "if __name__ == \"__main__\" :\n",
    "    bob = PizzaRobot ('bob')            # Создать робота по имени bob\n",
    "    print(bob)                          # Выполняется унаследованный метод__repr__\n",
    "    bob.work()                          # Выполняется действие, специфичное для типа\n",
    "    bob.giveRaise (0.20)                # Повысить зарплату роботу bob на 20%\n",
    "    print(bob); print()\n",
    "    \n",
    "for klass in Employee, Chef, Server, PizzaRobot: \n",
    "    obj = klass(klass.__name__)\n",
    "    obj.work()"
   ]
  },
  {
   "cell_type": "markdown",
   "metadata": {},
   "source": [
    "### Объектно-ориентированное программирование и наследование: отношения \"имеет\""
   ]
  },
  {
   "cell_type": "code",
   "execution_count": 5,
   "metadata": {},
   "outputs": [
    {
     "name": "stdout",
     "output_type": "stream",
     "text": [
      "Homer orders from <Employee: name=Pat, salary=40000>\n",
      "Bob makes pizza\n",
      "oven bakes\n",
      "Homer pays for item to <Employee: name=Pat, salary=40000>\n",
      "...\n",
      "Shaggy orders from <Employee: name=Pat, salary=40000>\n",
      "Bob makes pizza\n",
      "oven bakes\n",
      "Shaggy pays for item to <Employee: name=Pat, salary=40000>\n"
     ]
    }
   ],
   "source": [
    "# Файл pizzashop.ру (Python 2.Х + З.Х)\n",
    "from __future__ import print_function \n",
    "\n",
    "class Customer:\n",
    "    def __init__(self, name):\n",
    "        self.name = name\n",
    "    \n",
    "    def order(self, server):\n",
    "        print(self.name, \"orders from\", server) # заказы от\n",
    "    \n",
    "    def pay(self, server):\n",
    "        print(self.name, \"pays for item to\", server) # плата за единицу\n",
    "        \n",
    "\n",
    "class Oven:\n",
    "    def bake(self): \n",
    "        print(\"oven bakes\") # духовой шкаф выпекает\n",
    "\n",
    "\n",
    "class PizzaShop:\n",
    "    def __init__(self) :\n",
    "        self.server = Server('Pat') # Внедрить другие объекты\n",
    "        self.chef = PizzaRobot('Bob')  # Робот по имени bob\n",
    "        self.oven = Oven()\n",
    "\n",
    "    def order(self, name):\n",
    "        customer = Customer(name) # Активизировать другие объекты\n",
    "        customer.order(self.server) # Заказы клиента, принятые официантом\n",
    "        self.chef.work() \n",
    "        self.oven.bake() \n",
    "        customer.pay(self.server)\n",
    "\n",
    "if __name__ == \"__main__\": \n",
    "    scene = PizzaShop() # Создать составной объект\n",
    "    scene.order('Homer') # Эмулировать заказ клиента Homer\n",
    "    print('...')\n",
    "    scene.order('Shaggy') # Эмулировать заказ клиента Shaggy"
   ]
  },
  {
   "cell_type": "markdown",
   "metadata": {},
   "source": [
    "### Обработчики потоков данных\n",
    "\n",
    "В качестве примера композиции, который может оказаться чуть более осязаемым, чем роботы по приготовлению пиццы, напишем обобщенную функцию обработчика потоков данных:"
   ]
  },
  {
   "cell_type": "code",
   "execution_count": null,
   "metadata": {},
   "outputs": [],
   "source": [
    "def processor(reader, converter, writer): \n",
    "    while True:\n",
    "        data = reader.read() \n",
    "        if not data: \n",
    "            break \n",
    "        data = converter(data) \n",
    "        writer.write(data)"
   ]
  },
  {
   "cell_type": "markdown",
   "metadata": {},
   "source": [
    "\n",
    "Вместо применения простой функции мы можем написать код класса, который для выполнения своей работы использует композицию, чтобы обеспечить большую структурированность и поддержку наследования. \n"
   ]
  },
  {
   "cell_type": "code",
   "execution_count": 1,
   "metadata": {},
   "outputs": [],
   "source": [
    "class Processor:\n",
    "    def __init__(self, reader, writer):\n",
    "        self.reader = reader \n",
    "        self.writer = writer\n",
    "\n",
    "    def process(self): \n",
    "        while True:\n",
    "            data = self.reader.readline() \n",
    "            if not data: \n",
    "                break\n",
    "            data = self.converter(data) \n",
    "            self.writer.write(data)\n",
    "\n",
    "    def converter(self, data):\n",
    "        assert False,  'converter must be defined' # Или сгенерировать исключение"
   ]
  },
  {
   "cell_type": "code",
   "execution_count": 2,
   "metadata": {},
   "outputs": [
    {
     "name": "stdout",
     "output_type": "stream",
     "text": [
      "SPAM\n",
      "SPAM\n",
      "SPAM! \n"
     ]
    }
   ],
   "source": [
    "class Uppercase(Processor):\n",
    "    def converter(self, data):\n",
    "        return data.upper ()\n",
    "\n",
    "\n",
    "if __name__ == '__main__' : \n",
    "    import sys\n",
    "    obj = Uppercase(open('./trispam.txt'), sys.stdout) \n",
    "    obj.process()"
   ]
  },
  {
   "cell_type": "code",
   "execution_count": 3,
   "metadata": {},
   "outputs": [
    {
     "name": "stdout",
     "output_type": "stream",
     "text": [
      "<PRE>SPAM</PRE>\n",
      "<PRE>SPAM</PRE>\n",
      "<PRE>SPAM!</PRE>\n"
     ]
    }
   ],
   "source": [
    "class HTMLize:\n",
    "    def write(self, line):\n",
    "        print('<PRE>%s</PRE>' % line.rstrip())\n",
    "\n",
    "Uppercase(open('trispam.txt'), HTMLize()).process()"
   ]
  },
  {
   "cell_type": "code",
   "execution_count": null,
   "metadata": {},
   "outputs": [],
   "source": [
    "import pickle"
   ]
  }
 ],
 "metadata": {
  "kernelspec": {
   "display_name": "Python 3",
   "language": "python",
   "name": "python3"
  },
  "language_info": {
   "codemirror_mode": {
    "name": "ipython",
    "version": 3
   },
   "file_extension": ".py",
   "mimetype": "text/x-python",
   "name": "python",
   "nbconvert_exporter": "python",
   "pygments_lexer": "ipython3",
   "version": "3.12.2"
  }
 },
 "nbformat": 4,
 "nbformat_minor": 2
}
