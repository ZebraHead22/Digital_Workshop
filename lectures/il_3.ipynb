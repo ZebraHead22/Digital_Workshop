{
 "cells": [
  {
   "cell_type": "markdown",
   "metadata": {},
   "source": [
    "# Лекция Python 1\n",
    "## Один из реалистичных примеров ООП\n",
    "### Объектно-ориентированное программирование и наследование: отношения \"является\""
   ]
  },
  {
   "cell_type": "code",
   "execution_count": 34,
   "metadata": {},
   "outputs": [
    {
     "name": "stdout",
     "output_type": "stream",
     "text": [
      "<Employee: name=bob, salary=50000>\n",
      "bob makes pizza\n",
      "<Employee: name=bob, salary=60000.0>\n",
      "\n",
      "Employee does stuff\n",
      "Chef makes food\n",
      "Server interfaces with customer\n",
      "PizzaRobot makes pizza\n"
     ]
    }
   ],
   "source": [
    "from __future__ import print_function\n",
    "\n",
    "class Employee:\n",
    "    def __init__(self, name, salary=0):\n",
    "        self.name = name\n",
    "        self.salary = salary\n",
    "    \n",
    "    def giveRaise(self, percent):\n",
    "        self.salary = self.salary + (self.salary * percent)\n",
    "\n",
    "    def work(self):\n",
    "        print(self.name, \"does stuff\") # типо что-то делает\n",
    "\n",
    "    def __repr__(self):\n",
    "        return \"<Employee: name=%s, salary=%s>\" % (self.name, self.salary)\n",
    "\n",
    "class Chef(Employee):\n",
    "    def __init__(self, name):\n",
    "        Employee.__init__(self, name, 50000)\n",
    "\n",
    "    def work(self):\n",
    "        print(self.name, \"makes food\") # готовит еду\n",
    "\n",
    "class Server(Employee):\n",
    "    def __init__(self, name):\n",
    "        Employee.__init__(self, name, 40000)\n",
    "    \n",
    "    def work(self):\n",
    "        print(self.name, \"interfaces with customer\") # Взаимодействует с клиентом\n",
    "\n",
    "class PizzaRobot(Chef):\n",
    "    def __init__(self, name):\n",
    "        Chef.__init__(self, name)   \n",
    "\n",
    "    def work(self):\n",
    "        print(self.name, \"makes pizza\") # готовит пиццу\n",
    "\n",
    "if __name__ == \"__main__\" :\n",
    "    bob = PizzaRobot ('bob')            # Создать робота по имени bob\n",
    "    print(bob)                          # Выполняется унаследованный метод__repr__\n",
    "    bob.work()                          # Выполняется действие, специфичное для типа\n",
    "    bob.giveRaise (0.20)                # Повысить зарплату роботу bob на 20%\n",
    "    print(bob); print()\n",
    "    \n",
    "for klass in Employee, Chef, Server, PizzaRobot: \n",
    "    obj = klass(klass.__name__)\n",
    "    obj.work()"
   ]
  },
  {
   "cell_type": "markdown",
   "metadata": {},
   "source": [
    "### Объектно-ориентированное программирование и наследование: отношения \"имеет\""
   ]
  },
  {
   "cell_type": "code",
   "execution_count": 35,
   "metadata": {},
   "outputs": [
    {
     "name": "stdout",
     "output_type": "stream",
     "text": [
      "Homer orders from <Employee: name=Pat, salary=40000>\n",
      "Bob makes pizza\n",
      "oven bakes\n",
      "Homer pays for item to <Employee: name=Pat, salary=40000>\n",
      "...\n",
      "Shaggy orders from <Employee: name=Pat, salary=40000>\n",
      "Bob makes pizza\n",
      "oven bakes\n",
      "Shaggy pays for item to <Employee: name=Pat, salary=40000>\n"
     ]
    }
   ],
   "source": [
    "# Файл pizzashop.ру (Python 2.Х + З.Х)\n",
    "from __future__ import print_function \n",
    "\n",
    "class Customer:\n",
    "    def __init__(self, name):\n",
    "        self.name = name\n",
    "    \n",
    "    def order(self, server):\n",
    "        print(self.name, \"orders from\", server) # заказы от\n",
    "    \n",
    "    def pay(self, server):\n",
    "        print(self.name, \"pays for item to\", server) # плата за единицу\n",
    "        \n",
    "\n",
    "class Oven:\n",
    "    def bake(self): \n",
    "        print(\"oven bakes\") # духовой шкаф выпекает\n",
    "\n",
    "class StoneOven(Oven):\n",
    "    def bake(self): \n",
    "        print(\"oven bakes on stone raft\") # духовой шкаф выпекает на каменной подложке\n",
    "\n",
    "\n",
    "class PizzaShop:\n",
    "    def __init__(self) :\n",
    "        self.server = Server('Pat') # Внедрить другие объекты\n",
    "        self.chef = PizzaRobot('Bob')  # Робот по имени bob\n",
    "        self.oven = StoneOven(Oven)\n",
    "\n",
    "    def order(self, name):\n",
    "        customer = Customer(name) # Активизировать другие объекты\n",
    "        customer.order(self.server) # Заказы клиента, принятые официантом\n",
    "        self.chef.work() \n",
    "        self.oven.bake() \n",
    "        customer.pay(self.server)\n",
    "\n",
    "if __name__ == \"__main__\": \n",
    "    scene = PizzaShop() # Создать составной объект\n",
    "    scene.order('Homer') # Эмулировать заказ клиента Homer\n",
    "    print('...')\n",
    "    scene.order('Shaggy') # Эмулировать заказ клиента Shaggy"
   ]
  },
  {
   "cell_type": "markdown",
   "metadata": {},
   "source": [
    "### Обработчики потоков данных\n",
    "\n",
    "В качестве примера композиции, который может оказаться чуть более осязаемым, чем роботы по приготовлению пиццы, напишем обобщенную функцию обработчика потоков данных:"
   ]
  },
  {
   "cell_type": "code",
   "execution_count": null,
   "metadata": {},
   "outputs": [],
   "source": [
    "def processor(reader, converter, writer): \n",
    "    while True:\n",
    "        data = reader.read() \n",
    "        if not data: \n",
    "            break \n",
    "        data = converter(data) \n",
    "        writer.write(data)"
   ]
  },
  {
   "cell_type": "markdown",
   "metadata": {},
   "source": [
    "\n",
    "Вместо применения простой функции мы можем написать код класса, который для выполнения своей работы использует композицию, чтобы обеспечить большую структурированность и поддержку наследования. \n"
   ]
  },
  {
   "cell_type": "code",
   "execution_count": 3,
   "metadata": {},
   "outputs": [],
   "source": [
    "class Processor:\n",
    "    def __init__(self, reader, writer):\n",
    "        self.reader = reader \n",
    "        self.writer = writer\n",
    "\n",
    "    def process(self): \n",
    "        while True:\n",
    "            data = self.reader.readline() \n",
    "            if not data: \n",
    "                break\n",
    "            data = self.converter(data) \n",
    "            self.writer.write(data)\n",
    "\n",
    "    def converter(self, data):\n",
    "        assert False,  'converter must be defined' # Или сгенерировать исключение"
   ]
  },
  {
   "cell_type": "code",
   "execution_count": 5,
   "metadata": {},
   "outputs": [
    {
     "name": "stdout",
     "output_type": "stream",
     "text": [
      "SPAM\n",
      "SPAM\n",
      "SPAM!"
     ]
    }
   ],
   "source": [
    "class Uppercase(Processor):\n",
    "    def converter(self, data):\n",
    "        return data.upper()\n",
    "\n",
    "\n",
    "if __name__ == '__main__' : \n",
    "    import sys\n",
    "    obj = Uppercase(open('./trispam.txt'), sys.stdout) \n",
    "    obj.process()"
   ]
  },
  {
   "cell_type": "code",
   "execution_count": 6,
   "metadata": {},
   "outputs": [
    {
     "name": "stdout",
     "output_type": "stream",
     "text": [
      "<q1>SPAM</q1>\n",
      "<q1>SPAM</q1>\n",
      "<q1>SPAM!</q1>\n"
     ]
    }
   ],
   "source": [
    "class HTMLize:\n",
    "    def write(self, line):\n",
    "        print('<q1>%s</q1>' % line.rstrip())\n",
    "\n",
    "Uppercase(open('trispam.txt'), HTMLize()).process()"
   ]
  },
  {
   "cell_type": "code",
   "execution_count": 40,
   "metadata": {},
   "outputs": [
    {
     "name": "stdout",
     "output_type": "stream",
     "text": [
      "<__main__.PizzaShop object at 0x105b066f0>\n"
     ]
    }
   ],
   "source": [
    "import shelve\n",
    "\n",
    "object = PizzaShop()\n",
    "dbase = shelve.open('test2.txt') \n",
    "dbase ['key'] = object  # Сохранить под ключом\n",
    "\n",
    "import shelve\n",
    "dbase = shelve.open('test2.txt')\n",
    "object = dbase['key']  \n",
    "print(object)"
   ]
  },
  {
   "cell_type": "code",
   "execution_count": 43,
   "metadata": {},
   "outputs": [],
   "source": [
    "shop = PizzaShop()\n",
    "shop.server\n",
    "shop.chef\n",
    "\n",
    "import pickle\n",
    "pickle.dump(shop, open('shopfile.txt', 'wb'))"
   ]
  },
  {
   "cell_type": "code",
   "execution_count": 44,
   "metadata": {},
   "outputs": [
    {
     "name": "stdout",
     "output_type": "stream",
     "text": [
      "LSP orders from <Employee: name=Pat, salary=40000>\n",
      "Bob makes pizza\n",
      "oven bakes\n",
      "LSP pays for item to <Employee: name=Pat, salary=40000>\n"
     ]
    }
   ],
   "source": [
    "import pickle\n",
    "obj = pickle.load(open('shopfile.txt', 'rb'))\n",
    "obj.server\n",
    "obj.chef\n",
    "obj.order('LSP')"
   ]
  },
  {
   "cell_type": "markdown",
   "metadata": {},
   "source": [
    "## Паттерн декоратор\n",
    "\n",
    "Декоратор – это структурный паттерн. Цель которого – предоставление новых функциональных возможностей классам и объектам во время выполнения кода.\n",
    "\n",
    "Чаще всего декоратор представляет собой абстрактный класс, принимающий в конструкторе объект, функциональность которого мы хотим расширить. Но в Python есть и встроенный механизм декораторов, который можно использовать.\n",
    "\n",
    "**Случаи использования**\n",
    "\n",
    "Необходимость назначить дополнительные обязанности объектам во время выполнения, не ломая код, который использует эти объекты;\n",
    "По каким-то причинам невозможно расширить «цепочку обязанностей» объекта через наследование.  \n",
    "\n",
    "\n",
    "**Пример кода**\n",
    "\n",
    "Используя декораторы, вы можете обернуть объекты несколько раз, поскольку и цель, и декораторы реализуют один и тот же интерфейс.\n",
    "\n",
    "Получаемый объект будет обладать объединенной и сложенной функциональностью всех декораторов."
   ]
  },
  {
   "cell_type": "code",
   "execution_count": 1,
   "metadata": {},
   "outputs": [
    {
     "name": "stdout",
     "output_type": "stream",
     "text": [
      "ConcreteComponent\n",
      "ConcreteDecoratorB(ConcreteDecoratorA(ConcreteComponent))\n"
     ]
    }
   ],
   "source": [
    "from abc import ABC, abstractmethod\n",
    "\n",
    "class Component(ABC):\n",
    "  @abstractmethod\n",
    "  def operation(self):\n",
    "      pass\n",
    "  \n",
    "  \n",
    "class ConcreteComponent(Component):\n",
    "  def operation(self):\n",
    "      return \"ConcreteComponent\"\n",
    "\n",
    "\n",
    "class Decorator(Component):\n",
    "  def __init__(self, component):\n",
    "      self.component = component\n",
    "  @abstractmethod\n",
    "  def operation(self):\n",
    "      pass\n",
    "\n",
    "\n",
    "class ConcreteDecoratorA(Decorator):\n",
    "  def operation(self):\n",
    "      return f\"ConcreteDecoratorA({self.component.operation()})\"\n",
    "  \n",
    "class ConcreteDecoratorB(Decorator):\n",
    "  def operation(self):\n",
    "      return f\"ConcreteDecoratorB({self.component.operation()})\"\n",
    "  \n",
    "\n",
    "if __name__ == \"__main__\":\n",
    "  concreteComponent = ConcreteComponent()\n",
    "  print(concreteComponent.operation())\n",
    "  decoratorA = ConcreteDecoratorA(concreteComponent)\n",
    "  decoratorB = ConcreteDecoratorB(concreteComponent)\n",
    "  decorator = ConcreteDecoratorB(concreteComponent)\n",
    "  concreteComponent.operation()\n",
    "  \n",
    "  print(decoratorB.operation())"
   ]
  },
  {
   "cell_type": "code",
   "execution_count": null,
   "metadata": {},
   "outputs": [],
   "source": [
    "\n",
    "@function2\n",
    "def function():\n",
    "    pass"
   ]
  },
  {
   "cell_type": "code",
   "execution_count": 2,
   "metadata": {},
   "outputs": [
    {
     "name": "stdout",
     "output_type": "stream",
     "text": [
      "2461757021582324272166248155313036893697139996697461509576233211000055607912198979704988704446425834042795269603588522245550271050495783935904220352228801000\n"
     ]
    }
   ],
   "source": [
    "import sys\n",
    "def memoize(f):\n",
    "  cache = dict()\n",
    "  def wrapper(x):\n",
    "      if x not in cache:\n",
    "          cache[x] = f(x)\n",
    "      return cache[x]\n",
    "  return wrapper\n",
    "\n",
    "@memoize\n",
    "def fib(n):\n",
    "  if n <= 1:\n",
    "      return n\n",
    "  else:\n",
    "      return fib(n - 1) + fib(n - 2)\n",
    "if __name__ == \"__main__\":\n",
    "  sys.setrecursionlimit(2000)\n",
    "  print(fib(750))"
   ]
  }
 ],
 "metadata": {
  "kernelspec": {
   "display_name": "Python 3",
   "language": "python",
   "name": "python3"
  },
  "language_info": {
   "codemirror_mode": {
    "name": "ipython",
    "version": 3
   },
   "file_extension": ".py",
   "mimetype": "text/x-python",
   "name": "python",
   "nbconvert_exporter": "python",
   "pygments_lexer": "ipython3",
   "version": "3.12.2"
  }
 },
 "nbformat": 4,
 "nbformat_minor": 2
}
