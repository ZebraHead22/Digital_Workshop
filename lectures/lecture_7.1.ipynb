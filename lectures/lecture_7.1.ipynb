{
 "cells": [
  {
   "cell_type": "markdown",
   "metadata": {},
   "source": [
    "# Лекция Python 7\n",
    "\n",
    "## Основы исключений\n",
    "### Виды исключений"
   ]
  },
  {
   "cell_type": "markdown",
   "metadata": {},
   "source": [
    "|Конструкция|Значение|\n",
    "|--|--|\n",
    "|**try/except**|Перехватывает и производит восстановление после исключений, инициируе­мых Python или вами.|\n",
    "|**try/finally**|Выполняет действия по очистке независимо от того, происходили исключения или нет.|\n",
    "|**raise**|Генерирует исключение вручную в коде.|\n",
    "|**assert**|Генерирует исключение условно в коде.|\n",
    "|**with/as**|Реализует диспетчеры контекстов в Python 2.6, 3.0 и последующих версиях (не­ обязательные в Python 2.5).|\n"
   ]
  },
  {
   "cell_type": "markdown",
   "metadata": {},
   "source": [
    "### Роли, исполняемые исключениями\n",
    "\n",
    "- Обработка ошибок\n",
    "- Уведомление о событиях\n",
    "- Обработка особых случаев\n",
    "- Действия при завершении\n",
    "- Редкие потоки управления"
   ]
  },
  {
   "cell_type": "markdown",
   "metadata": {},
   "source": [
    "### Стандартный обработчик исключений\n"
   ]
  },
  {
   "cell_type": "code",
   "execution_count": 2,
   "metadata": {},
   "outputs": [],
   "source": [
    "def fetcher(obj, index) :\n",
    "    return obj[index]"
   ]
  },
  {
   "cell_type": "code",
   "execution_count": 3,
   "metadata": {},
   "outputs": [
    {
     "data": {
      "text/plain": [
       "'m'"
      ]
     },
     "execution_count": 3,
     "metadata": {},
     "output_type": "execute_result"
    }
   ],
   "source": [
    "x = 'spam'\n",
    "fetcher(x, 3)"
   ]
  },
  {
   "cell_type": "code",
   "execution_count": null,
   "metadata": {},
   "outputs": [],
   "source": [
    "fetcher(x, 4)"
   ]
  },
  {
   "cell_type": "markdown",
   "metadata": {},
   "source": [
    "### Перехват исключений\n"
   ]
  },
  {
   "cell_type": "code",
   "execution_count": null,
   "metadata": {},
   "outputs": [],
   "source": [
    "try:\n",
    "    fetcher(x, 4)\n",
    "except IndexError:  # Перехват и восстановление\n",
    "    print ('got exception') "
   ]
  },
  {
   "cell_type": "code",
   "execution_count": 5,
   "metadata": {},
   "outputs": [],
   "source": [
    "def catcher () :\n",
    "    try:\n",
    "        fetcher(x, 4) \n",
    "    except IndexError: \n",
    "        print('got exception')  # Получено исключение\n",
    "        print('continuing')  # Продолжение\n",
    "\n"
   ]
  },
  {
   "cell_type": "markdown",
   "metadata": {},
   "source": [
    "### Генерация исключений\n"
   ]
  },
  {
   "cell_type": "code",
   "execution_count": null,
   "metadata": {},
   "outputs": [],
   "source": [
    "try:\n",
    "    raise IndexError  # Генерация исключения вручную\n",
    "except IndexError:\n",
    "    print('got exception')"
   ]
  },
  {
   "cell_type": "markdown",
   "metadata": {},
   "source": [
    "Как обычно, если генерируемые пользователем исключения не перехватываются, \n",
    "то они распространяются вплоть до стандартного обработчика исключений и прекра­\n",
    "щают работу программы с выводом стандартного сообщения об ошибке."
   ]
  },
  {
   "cell_type": "markdown",
   "metadata": {},
   "source": [
    "### Исключения, определяемые пользователем"
   ]
  },
  {
   "cell_type": "code",
   "execution_count": null,
   "metadata": {},
   "outputs": [],
   "source": [
    "class AlreadyGotOne(Exception): pass\n",
    "\n",
    "def grail () :\n",
    "    raise AlreadyGotOne()\n",
    "\n",
    "try: \n",
    "    grail ()\n",
    "except AlreadyGotOne: \n",
    "    print('got exception')"
   ]
  },
  {
   "cell_type": "markdown",
   "metadata": {},
   "source": [
    "Конструкция as оператора except может \n",
    "предоставлять доступ к самому объекту исключения. Исключения на основе классов \n",
    "позволяют сценариям формировать категории исключений, которые способны насле­\n",
    "довать поведение, а также иметь присоединенную информацию о состоянии и мето­\n",
    "ды. Вдобавок они могут настраивать текст своих сообщений об ошибках, отображае­\n",
    "мый в ситуации, когда не был совершен перехват:"
   ]
  },
  {
   "cell_type": "code",
   "execution_count": null,
   "metadata": {},
   "outputs": [],
   "source": [
    "class Career (Exception) :\n",
    "    def __str__ (self) : return 'So I became a waiter. . . '\n",
    "\n",
    "raise Career()\n"
   ]
  },
  {
   "cell_type": "markdown",
   "metadata": {},
   "source": [
    "### Действия при завершении\n",
    "\n",
    "Наконец, операторы try могут содержать слово finally, т.е. иметь в своем соста­\n",
    "ве блоки finally. Они выглядят похожими на обработчики except для исключений, \n",
    "но комбинация try/finally указывает действия при завершении, которые всегда \n",
    "выполняются “на выходе” независимо от того, происходили исключение в блоке try \n",
    "или нет:\n"
   ]
  },
  {
   "cell_type": "code",
   "execution_count": 7,
   "metadata": {},
   "outputs": [
    {
     "name": "stdout",
     "output_type": "stream",
     "text": [
      "after fetch\n"
     ]
    }
   ],
   "source": [
    "try:\n",
    "    fetcher(x, 3)\n",
    "finally:\n",
    "    print('after fetch')"
   ]
  },
  {
   "cell_type": "markdown",
   "metadata": {},
   "source": [
    "Если блок try завершается без исключения, то блок finally выполнится и про­\n",
    "грамма возобновит работу после полного оператора try. В данном случае наличие \n",
    "оператора try кажется слегка нелепым — мы могли бы просто набрать print сразу \n",
    "после вызова функции и вообще избавиться от try:"
   ]
  },
  {
   "cell_type": "code",
   "execution_count": 8,
   "metadata": {},
   "outputs": [
    {
     "name": "stdout",
     "output_type": "stream",
     "text": [
      "after fetch\n"
     ]
    }
   ],
   "source": [
    "fetcher(x, 3) \n",
    "print('after fetch')\n"
   ]
  },
  {
   "cell_type": "markdown",
   "metadata": {},
   "source": [
    "Тем не менее, здесь присутствует проблема: если вызов функции сгенерирует ис­\n",
    "ключение, тогда поток управления никогда не доберется до print. Комбинация try/ \n",
    "finally позволяет избежать этой ловушки — когда в блоке try все же возникает ис­\n",
    "ключение, блоки finally выполняются во время раскручивания стека программы:"
   ]
  },
  {
   "cell_type": "code",
   "execution_count": 12,
   "metadata": {},
   "outputs": [
    {
     "name": "stdout",
     "output_type": "stream",
     "text": [
      "after fetch\n"
     ]
    },
    {
     "ename": "IndexError",
     "evalue": "string index out of range",
     "output_type": "error",
     "traceback": [
      "\u001b[1;31m---------------------------------------------------------------------------\u001b[0m",
      "\u001b[1;31mIndexError\u001b[0m                                Traceback (most recent call last)",
      "Cell \u001b[1;32mIn[12], line 8\u001b[0m\n\u001b[0;32m      5\u001b[0m         \u001b[38;5;28mprint\u001b[39m(\u001b[38;5;124m'\u001b[39m\u001b[38;5;124mafter fetch\u001b[39m\u001b[38;5;124m'\u001b[39m) \u001b[38;5;66;03m#  После извлечения\u001b[39;00m\n\u001b[0;32m      6\u001b[0m     \u001b[38;5;28mprint\u001b[39m(\u001b[38;5;124m'\u001b[39m\u001b[38;5;124mafter try?\u001b[39m\u001b[38;5;124m'\u001b[39m)  \u001b[38;5;66;03m#  После извлечения\u001b[39;00m\n\u001b[1;32m----> 8\u001b[0m \u001b[43mafter\u001b[49m\u001b[43m(\u001b[49m\u001b[43m)\u001b[49m\n",
      "Cell \u001b[1;32mIn[12], line 3\u001b[0m, in \u001b[0;36mafter\u001b[1;34m()\u001b[0m\n\u001b[0;32m      1\u001b[0m \u001b[38;5;28;01mdef\u001b[39;00m \u001b[38;5;21mafter\u001b[39m():\n\u001b[0;32m      2\u001b[0m     \u001b[38;5;28;01mtry\u001b[39;00m: \n\u001b[1;32m----> 3\u001b[0m         \u001b[43mfetcher\u001b[49m\u001b[43m(\u001b[49m\u001b[43mx\u001b[49m\u001b[43m,\u001b[49m\u001b[43m \u001b[49m\u001b[38;5;241;43m4\u001b[39;49m\u001b[43m)\u001b[49m \n\u001b[0;32m      4\u001b[0m     \u001b[38;5;28;01mfinally\u001b[39;00m: \n\u001b[0;32m      5\u001b[0m         \u001b[38;5;28mprint\u001b[39m(\u001b[38;5;124m'\u001b[39m\u001b[38;5;124mafter fetch\u001b[39m\u001b[38;5;124m'\u001b[39m) \u001b[38;5;66;03m#  После извлечения\u001b[39;00m\n",
      "Cell \u001b[1;32mIn[2], line 2\u001b[0m, in \u001b[0;36mfetcher\u001b[1;34m(obj, index)\u001b[0m\n\u001b[0;32m      1\u001b[0m \u001b[38;5;28;01mdef\u001b[39;00m \u001b[38;5;21mfetcher\u001b[39m(obj, index) :\n\u001b[1;32m----> 2\u001b[0m     \u001b[38;5;28;01mreturn\u001b[39;00m \u001b[43mobj\u001b[49m\u001b[43m[\u001b[49m\u001b[43mindex\u001b[49m\u001b[43m]\u001b[49m\n",
      "\u001b[1;31mIndexError\u001b[0m: string index out of range"
     ]
    }
   ],
   "source": [
    "def after():\n",
    "    try: \n",
    "        fetcher(x, 4) \n",
    "    finally: \n",
    "        print('after fetch') #  После извлечения\n",
    "    print('after try?')  #  После извлечения\n",
    "\n",
    "after()\n"
   ]
  },
  {
   "cell_type": "markdown",
   "metadata": {},
   "source": [
    "Здесь мы не получаем сообщение after try?, потому что поток управления не \n",
    "возобновляется после блока try/finally, когда возникает исключение. Взамен ин­\n",
    "терпретатор Python переходит обратно к выполнению действия finally и затем рас­\n",
    "пространяет исключение вверх к предыдущему обработчику (в этой ситуации к стан­\n",
    "дартному разработчику на верхнем уровне). Если мы изменим вызов функции fetcher \n",
    "так, чтобы не инициировать исключение, то код finally по-прежнему выполнится, \n",
    "но программа продолжит выполнения после try:\n"
   ]
  },
  {
   "cell_type": "code",
   "execution_count": 11,
   "metadata": {},
   "outputs": [
    {
     "name": "stdout",
     "output_type": "stream",
     "text": [
      "after fetch\n",
      "after try?\n"
     ]
    }
   ],
   "source": [
    "def after():\n",
    "    try: \n",
    "        fetcher(x, 3) \n",
    "    finally:\n",
    "        print('after fetch') \n",
    "    print('after try?')\n",
    "    \n",
    "after ()"
   ]
  },
  {
   "cell_type": "code",
   "execution_count": null,
   "metadata": {},
   "outputs": [],
   "source": [
    "def doStuff():  # Код на Python\n",
    "    doFirstThing()  # Мы не обязаны здесь заботиться об исключениях,\n",
    "    doNextThing()  # поэтому нет необходимости и выявлять их\n",
    "    doLastThing()\n",
    "   \n",
    "if __name__ == '__main__':\n",
    "    try:\n",
    "        doStuff ()  # Тут нас интересуют результаты, так что\n",
    "    except:  # это единственное место, где требуется проверка\n",
    "        badEnding()\n",
    "    else:\n",
    "        goodEnding()\n"
   ]
  },
  {
   "cell_type": "markdown",
   "metadata": {},
   "source": [
    "## Детали обработки исключений\n",
    "### Оператор try/except/else\n"
   ]
  },
  {
   "cell_type": "code",
   "execution_count": null,
   "metadata": {},
   "outputs": [],
   "source": [
    "try:\n",
    "    операторы                   # Главное действие, выполняемое первым\n",
    "except имя1:\n",
    "    операторы                   #  Выполняются, если в течение блока try\n",
    "                                #  сгенерировалось исключение имя!\n",
    "\n",
    "except(имя2, имяЗ):             #  Выполняются, если произошло любое\n",
    "                                #  из указанных исключений\n",
    "    операторы\n",
    "except имя4 as переменная:      #  Выполняются, если сгенерировалось исключение имя4,\n",
    "                                #  экземпляр исключения присваивается переменно\n",
    "    операторы\n",
    "except:                         #  Выполняются, если были сгенерированы\n",
    "                                #  все остальные исключения\n",
    "    операторы\n",
    "else:\n",
    "    операторы                   #  Выполняются, если в течение блока try исключения\n",
    "                                #  не генерировались\n",
    "\n",
    "\n"
   ]
  },
  {
   "cell_type": "markdown",
   "metadata": {},
   "source": [
    "### Конструкции оператора try\n",
    "\n",
    "|Форма конструкции|Интерпретация|\n",
    "|--|--|\n",
    "|except:| Перехватывает все (или все остальные) типы исключений|\n",
    "|except *имя*| Перехватывает только специфическое исключение|\n",
    "|except *имя* as *значение*| Перехватывает указанное исключение и присваива­ет его экземпляр|\n",
    "|except (*имя1, имя2*)| Перехватывает любое из перечисленных исключений|\n",
    "|except (*имя1, имя2*) as *значение*|Перехватывает любое из перечисленных исключе­ний и присваивает его экземпляр|\n",
    "|else:| Выполняется, если в блоке try исключения не генерировались|\n",
    "|finally:| Всегда выполняется при выходе|"
   ]
  },
  {
   "cell_type": "markdown",
   "metadata": {},
   "source": [
    "Поскольку интерпретатор Python ищет совпадение внутри заданного try путем ин­\n",
    "спектирования конструкций except сверху вниз, версия в круглых скобках имеет такой \n",
    "же эффект, как указание каждого исключения в собственной конструкции except, но \n",
    "блок операторов, ассоциированный с каждым исключением, придется писать только \n",
    "раз. Ниже приведен пример множества конструкций except в работе, который де­\n",
    "монстрирует, насколько специфичными могут оказаться ваши обработчики:"
   ]
  },
  {
   "cell_type": "code",
   "execution_count": null,
   "metadata": {},
   "outputs": [],
   "source": [
    "try:\n",
    "    action()\n",
    "except NameError:\n",
    "    ...\n",
    "except IndexError:\n",
    "    ...\n",
    "except KeyError:\n",
    "    ...\n",
    "except (AttributeError, TypeError, SyntaxError):\n",
    "    ...\n",
    "else:\n",
    "    ..."
   ]
  },
  {
   "cell_type": "markdown",
   "metadata": {},
   "source": [
    "### Перехват всех исключений: пустая конструкция except и Exception\n",
    "Если вам действительно нужна “всеобъемлющая” конструкция, то подойдет пустая \n",
    "конструкция except:"
   ]
  },
  {
   "cell_type": "code",
   "execution_count": null,
   "metadata": {},
   "outputs": [],
   "source": [
    "try:\n",
    "    action()\n",
    "except NameError:\n",
    "    ...  # Обработка NameError\n",
    "except IndexError:\n",
    "    ...  #  Обработка IndexError\n",
    "except:\n",
    "    ...  #  Обработка всех остальных исключений\n",
    "else:\n",
    "    ...  #  Обработка  случая отсутствия исключений\n"
   ]
  },
  {
   "cell_type": "markdown",
   "metadata": {},
   "source": [
    "Пустая конструкция except представляет собой своеобразное групповое средство — \n",
    "по причине перехвата всего она позволяет вашим обработчикам быть настолько \n",
    "универсальными или специфическими, насколько вы хотите. В некоторых сценари­\n",
    "ях такая форма может оказаться более удобной, чем перечисление всех возможных \n",
    "исключений в try. Скажем, следующий оператор try перехватывает все, ничего не \n",
    "перечисляя:\n"
   ]
  },
  {
   "cell_type": "code",
   "execution_count": null,
   "metadata": {},
   "outputs": [],
   "source": [
    "try:\n",
    "    action()\n",
    "except:\n",
    "    ...  # Перехват всех возможных исключений\n"
   ]
  },
  {
   "cell_type": "markdown",
   "metadata": {},
   "source": [
    "В Python З.Х более строго поддерживается альтернатива, которая решает одну из \n",
    "таких проблем — перехват исключения по имени Exception дает почти тот же самый \n",
    "результат, что и пустая конструкция except, но игнорирует исключения, связанные с \n",
    "системными вызовами для выхода:"
   ]
  },
  {
   "cell_type": "code",
   "execution_count": null,
   "metadata": {},
   "outputs": [],
   "source": [
    "try:\n",
    "    action()\n",
    "except Exception:\n",
    "    ...  # Перехват всех возможных исключений кроме вызовов для выхода"
   ]
  },
  {
   "cell_type": "markdown",
   "metadata": {},
   "source": [
    "### Конструкция else оператора try\n",
    "\n",
    "Целевое назначение конструкции else не всегда сразу очевидно для новичков в \n",
    "Python. Однако без нее отсутствует прямой способ сообщить (без установки и провер­\n",
    "ки булевских флагов), продолжил поток управления выполнение после оператора try \n",
    "из-за того, что никаких исключений не возникало или же исключение произошло и \n",
    "обработано. В любом случае мы оказываемся после оператора try:\n"
   ]
  },
  {
   "cell_type": "code",
   "execution_count": null,
   "metadata": {},
   "outputs": [],
   "source": [
    "try:\n",
    "...выполнить код...\n",
    "except IndexError:\n",
    "...обработать исключение...\n",
    "# Мы сюда попали из-за того, что try потерпел неудачу или же прошел?\n"
   ]
  },
  {
   "cell_type": "markdown",
   "metadata": {},
   "source": [
    "Во многом подобно тому, как конструкции else в циклах придают причине выхода \n",
    "большую очевидность, конструкция else предоставляет в операторе try синтаксис, \n",
    "который делает то, что произошло, ясным и недвусмысленным:"
   ]
  },
  {
   "cell_type": "code",
   "execution_count": null,
   "metadata": {},
   "outputs": [],
   "source": [
    "try:\n",
    "...выполнить код...\n",
    "except IndexError:\n",
    "...обработать исключение...\n",
    "else:\n",
    "...исключения не возникали...\n"
   ]
  },
  {
   "cell_type": "markdown",
   "metadata": {},
   "source": [
    "Вы можете почти полностью смоделировать конструкцию else, переместив ее код \n",
    "в блок try:\n"
   ]
  },
  {
   "cell_type": "code",
   "execution_count": null,
   "metadata": {},
   "outputs": [],
   "source": [
    "try:\n",
    "...выполнить код...\n",
    "...исключения не возникали...\n",
    "except IndexError:\n",
    "...обработать исключение...\n"
   ]
  },
  {
   "cell_type": "markdown",
   "metadata": {},
   "source": [
    "Тем не менее, такой прием может привести к некорректной классификации исклю­\n",
    "чения. Если действие “исключения не возникали” сгенерирует экземпляр IndexError,\n",
    "то он будет зарегистрирован как отказ блока try и ошибочно запустит обработчик \n",
    "исключений ниже try (тонко, но верно!). За счет применения взамен явной конструк­\n",
    "ции else вы делаете логику более очевидной и гарантируете, что обработчики except \n",
    "будут запускаться только для реальных отказов в коде, помещенном внутрь try, а не \n",
    "для отказов в действии для случая “исключения не возникали” конструкции else.\n"
   ]
  },
  {
   "cell_type": "markdown",
   "metadata": {},
   "source": [
    "### Примеры"
   ]
  },
  {
   "cell_type": "code",
   "execution_count": null,
   "metadata": {},
   "outputs": [],
   "source": [
    "def gobad(x, y):  # STANDART\n",
    "        return x / y\n",
    "def gosouth(x):\n",
    "    print(gobad(x, 0))\n",
    "\n",
    "gosouth(1)\n"
   ]
  },
  {
   "cell_type": "code",
   "execution_count": null,
   "metadata": {},
   "outputs": [],
   "source": [
    "def kaboom(x, y):\n",
    "    print (x + y)       # Генерируется TypeError\n",
    "try:\n",
    "    kaboom([0, 1, 2] , 'spam')\n",
    "except TypeError:       # Перехват и восстановление\n",
    "    print('Hello world!')\n",
    "print('resuming here')  # Продолжение здесь независимо от того,\n",
    "                        # было исключение или нет\n"
   ]
  },
  {
   "cell_type": "markdown",
   "metadata": {},
   "source": [
    "### Оператор try/finally\n"
   ]
  },
  {
   "cell_type": "code",
   "execution_count": null,
   "metadata": {},
   "outputs": [],
   "source": [
    "try: \n",
    "    операторы  # Это действие выполняется первым\n",
    "finally:\n",
    "    операторы  # Этот код всегда выполняется при выходе\n"
   ]
  },
  {
   "cell_type": "markdown",
   "metadata": {},
   "source": [
    "### Пример: написание кода действий при завершении с помощью try/finally"
   ]
  },
  {
   "cell_type": "code",
   "execution_count": null,
   "metadata": {},
   "outputs": [],
   "source": [
    "class MyError(Exception): pass\n",
    "def stuff(file) :\n",
    "    raise MyError()\n",
    "file = open ('data', 'w') # Открытие выходного файла\n",
    "#  (также может потерпеть неудачу)\n",
    "try:\n",
    "    stuff (file)  # Генерирует исключение\n",
    "finally:\n",
    "    file.close()  # Всегда закрывать файл, чтобы сбросить буферы вывода\n",
    "print('not reached') ##  Вынпео лбныелнои еи спкрлоюдчоелнжиа"
   ]
  },
  {
   "cell_type": "markdown",
   "metadata": {},
   "source": [
    "### Унифицированный оператор try/except/finally"
   ]
  },
  {
   "cell_type": "code",
   "execution_count": null,
   "metadata": {},
   "outputs": [],
   "source": [
    "try:\n",
    "    главное-действие \n",
    "except Exceptionl:\n",
    "    обработчик!\n",
    "except Exception2:\n",
    "    обработчик2\n",
    "# Объединенная форма\n",
    "# Перехват исключений\n",
    "else:  # Обработчик для случая отсутствия исключений\n",
    "    блок-else\n",
    "finally:  # finally охватывает все остальное\n",
    "    блок-finally\n"
   ]
  }
 ],
 "metadata": {
  "kernelspec": {
   "display_name": "Python 3",
   "language": "python",
   "name": "python3"
  },
  "language_info": {
   "codemirror_mode": {
    "name": "ipython",
    "version": 3
   },
   "file_extension": ".py",
   "mimetype": "text/x-python",
   "name": "python",
   "nbconvert_exporter": "python",
   "pygments_lexer": "ipython3",
   "version": "3.12.2"
  }
 },
 "nbformat": 4,
 "nbformat_minor": 2
}
