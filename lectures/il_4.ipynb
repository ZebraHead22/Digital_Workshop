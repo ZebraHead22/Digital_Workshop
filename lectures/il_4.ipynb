{
 "cells": [
  {
   "cell_type": "markdown",
   "metadata": {},
   "source": [
    "# Лекция Python 4\n",
    "\n",
    "## Основы исключений\n",
    "### Виды исключений"
   ]
  },
  {
   "cell_type": "markdown",
   "metadata": {},
   "source": [
    "|Конструкция|Значение|\n",
    "|--|--|\n",
    "|**try/except**|Перехватывает и производит восстановление после исключений, инициируе­мых Python или вами.|\n",
    "|**try/finally**|Выполняет действия по очистке независимо от того, происходили исключения или нет.|\n",
    "|**raise**|Генерирует исключение вручную в коде.|\n",
    "|**assert**|Генерирует исключение условно в коде.|\n",
    "|**with/as**|Реализует диспетчеры контекстов в Python 2.6, 3.0 и последующих версиях (не­ обязательные в Python 2.5).|\n"
   ]
  },
  {
   "cell_type": "markdown",
   "metadata": {},
   "source": [
    "### Роли, исполняемые исключениями\n",
    "\n",
    "- Обработка ошибок\n",
    "- Уведомление о событиях\n",
    "- Обработка особых случаев\n",
    "- Действия при завершении\n",
    "- Редкие потоки управления"
   ]
  },
  {
   "cell_type": "markdown",
   "metadata": {},
   "source": [
    "### Стандартный обработчик исключений\n"
   ]
  },
  {
   "cell_type": "code",
   "execution_count": 1,
   "metadata": {},
   "outputs": [],
   "source": [
    "def fetcher(obj, index) :\n",
    "    return obj[index]"
   ]
  },
  {
   "cell_type": "code",
   "execution_count": null,
   "metadata": {},
   "outputs": [],
   "source": [
    "x = 'spam'\n",
    "fetcher(x, 3)"
   ]
  },
  {
   "cell_type": "code",
   "execution_count": null,
   "metadata": {},
   "outputs": [],
   "source": [
    "fetcher(x, 4)"
   ]
  },
  {
   "cell_type": "markdown",
   "metadata": {},
   "source": [
    "### Перехват исключений\n"
   ]
  },
  {
   "cell_type": "code",
   "execution_count": null,
   "metadata": {},
   "outputs": [],
   "source": [
    "try:\n",
    "    fetcher(x, 4)\n",
    "except IndexError:  # Перехват и восстановление\n",
    "    print ('got exception') "
   ]
  },
  {
   "cell_type": "code",
   "execution_count": 5,
   "metadata": {},
   "outputs": [],
   "source": [
    "def catcher () :\n",
    "    try:\n",
    "        fetcher(x, 4) \n",
    "    except IndexError: \n",
    "        print('got exception')  # Получено исключение\n",
    "        print('continuing')  # Продолжение\n",
    "\n"
   ]
  },
  {
   "cell_type": "markdown",
   "metadata": {},
   "source": [
    "### Генерация исключений\n"
   ]
  },
  {
   "cell_type": "code",
   "execution_count": null,
   "metadata": {},
   "outputs": [],
   "source": [
    "try:\n",
    "    raise IndexError  # Генерация исключения вручную\n",
    "except IndexError:\n",
    "    print('got exception')"
   ]
  },
  {
   "cell_type": "markdown",
   "metadata": {},
   "source": [
    "Как обычно, если генерируемые пользователем исключения не перехватываются, \n",
    "то они распространяются вплоть до стандартного обработчика исключений и прекра­\n",
    "щают работу программы с выводом стандартного сообщения об ошибке."
   ]
  },
  {
   "cell_type": "markdown",
   "metadata": {},
   "source": [
    "### Исключения, определяемые пользователем"
   ]
  },
  {
   "cell_type": "code",
   "execution_count": null,
   "metadata": {},
   "outputs": [],
   "source": [
    "class AlreadyGotOne(Exception): pass\n",
    "\n",
    "def grail () :\n",
    "    raise AlreadyGotOne()\n",
    "\n",
    "try: \n",
    "    grail ()\n",
    "except AlreadyGotOne: \n",
    "    print('got exception')"
   ]
  },
  {
   "cell_type": "markdown",
   "metadata": {},
   "source": [
    "Конструкция as оператора except может \n",
    "предоставлять доступ к самому объекту исключения. Исключения на основе классов \n",
    "позволяют сценариям формировать категории исключений, которые способны насле­\n",
    "довать поведение, а также иметь присоединенную информацию о состоянии и мето­\n",
    "ды. Вдобавок они могут настраивать текст своих сообщений об ошибках, отображае­\n",
    "мый в ситуации, когда не был совершен перехват:"
   ]
  },
  {
   "cell_type": "code",
   "execution_count": null,
   "metadata": {},
   "outputs": [],
   "source": [
    "class Career (Exception) :\n",
    "    def __str__ (self) : return 'So I became a waiter. . . '\n",
    "\n",
    "raise Career()\n"
   ]
  }
 ],
 "metadata": {
  "kernelspec": {
   "display_name": "Python 3",
   "language": "python",
   "name": "python3"
  },
  "language_info": {
   "codemirror_mode": {
    "name": "ipython",
    "version": 3
   },
   "file_extension": ".py",
   "mimetype": "text/x-python",
   "name": "python",
   "nbconvert_exporter": "python",
   "pygments_lexer": "ipython3",
   "version": "3.12.2"
  }
 },
 "nbformat": 4,
 "nbformat_minor": 2
}
